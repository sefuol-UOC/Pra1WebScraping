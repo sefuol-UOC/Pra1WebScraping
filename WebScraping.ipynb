{
 "cells": [
  {
   "cell_type": "markdown",
   "metadata": {},
   "source": [
    "<div style=\"width: 100%; clear: both;\">\n",
    "<div style=\"float: left; width: 50%;\">\n",
    "<img src=\"http://www.uoc.edu/portal/_resources/common/imatges/marca_UOC/UOC_Masterbrand.jpg\", align=\"left\">\n",
    "</div>\n",
    "<div style=\"float: right; width: 50%;\">\n",
    "<p style=\"margin: 0; padding-top: 22px; text-align:right;\">M2.851 · Tipología y ciclo de vida de los datos · PRA1</p>\n",
    "<p style=\"margin: 0; text-align:right;\">2020-2 · Máster universitario en Ciencia de datos (Data science)</p>\n",
    "<p style=\"margin: 0; text-align:right; padding-button: 100px;\">Estudios de Informática, Multimedia y Telecomunicación</p>\n",
    "</div>\n",
    "</div>\n",
    "<div style=\"width:100%;\">&nbsp;</div>\n",
    "\n",
    "\n",
    "# Práctica 1: Web scraping\n",
    "\n",
    " - **https://github.com/sfunesolaria/Pra1WebScraping**"
   ]
  },
  {
   "cell_type": "code",
   "execution_count": 1,
   "metadata": {},
   "outputs": [],
   "source": [
    "import scrapy\n",
    "from scrapy.crawler import CrawlerProcess"
   ]
  },
  {
   "cell_type": "code",
   "execution_count": 2,
   "metadata": {},
   "outputs": [
    {
     "name": "stdout",
     "output_type": "stream",
     "text": [
      "{'title': ' PlasticineLab: A Soft-Body Manipulation Benchmark with Differentiable  Physics\\n', 'authors': 'Zhiao Huang', 'comments': ' Accepted to ICLR 2021 as a spotlight presentation. Project page: ', 'primary-subject': 'Machine Learning (cs.LG)'}\n",
      "{'title': ' Regularizing Generative Adversarial Networks under Limited Data\\n', 'authors': 'Hung-Yu Tseng', 'comments': ' CVPR 2021. Project Page: ', 'primary-subject': 'Machine Learning (cs.LG)'}\n",
      "{'title': ' Learned transform compression with optimized entropy encoding\\n', 'authors': 'Magda Gregorová', 'comments': ' Neural Compression Workshop @ ICLR 2021\\n', 'primary-subject': 'Machine Learning (cs.LG)'}\n",
      "{'title': ' Modern Hopfield Networks for Few- and Zero-Shot Reaction Prediction\\n', 'authors': 'Philipp Seidl', 'comments': ' 13 pages + 6 pages appendix\\n', 'primary-subject': 'Machine Learning (cs.LG)'}\n",
      "{'title': ' Evaluation of Time Series Forecasting Models for Estimation of PM2.5  Levels in Air\\n', 'authors': 'Satvik Garg', 'comments': ' 8 pages, This paper is accepted and presented in the IEEE 6th I2CT 2021 conference. The final version of this paper will appear in the conference proceedings\\n', 'primary-subject': 'Machine Learning (cs.LG)'}\n",
      "{'title': ' Deep Learning and Traffic Classification: Lessons learned from a  commercial-grade dataset with hundreds of encrypted and zero-day applications\\n', 'authors': 'Lixuan Yang', 'comments': None, 'primary-subject': 'Machine Learning (cs.LG)'}\n",
      "{'title': ' Adversarial Robustness Guarantees for Gaussian Processes\\n', 'authors': 'Andrea Patane', 'comments': ' Submitted for publication\\n', 'primary-subject': 'Machine Learning (cs.LG)'}\n",
      "{'title': ' Improving Robustness of Deep Reinforcement Learning Agents: Environment  Attacks based on Critic Networks\\n', 'authors': 'Lucas Schott', 'comments': None, 'primary-subject': 'Machine Learning (cs.LG)'}\n",
      "{'title': ' Partially-Connected Differentiable Architecture Search for Deepfake and  Spoofing Detection\\n', 'authors': 'Wanying Ge', 'comments': ' Submitted to INTERSPEECH 2021\\n', 'primary-subject': 'Machine Learning (cs.LG)'}\n",
      "{'title': ' Scaling Scaling Laws with Board Games\\n', 'authors': 'Andrew L. Jones', 'comments': None, 'primary-subject': 'Machine Learning (cs.LG)'}\n",
      "{'title': ' Risk-Conditioned Distributional Soft Actor-Critic for Risk-Sensitive  Navigation\\n', 'authors': 'Jinyoung Choi', 'comments': ' ICRA 2021. For associated videos, see ', 'primary-subject': 'Machine Learning (cs.LG)'}\n",
      "{'title': ' Spectral Analysis of the Neural Tangent Kernel for Deep Residual  Networks\\n', 'authors': 'Yuval Belfer', 'comments': None, 'primary-subject': 'Machine Learning (cs.LG)'}\n",
      "{'title': ' Trajectory Prediction with Latent Belief Energy-Based Model\\n', 'authors': 'Bo Pang', 'comments': ' 13 pages\\n', 'primary-subject': 'Machine Learning (cs.LG)'}\n",
      "{'title': ' Distributional Robustness Loss for Long-tail Learning\\n', 'authors': 'Dvir Samuel', 'comments': None, 'primary-subject': 'Machine Learning (cs.LG)'}\n",
      "{'title': ' Optimizing Memory Efficiency of Graph NeuralNetworks on Edge Computing  Platforms\\n', 'authors': 'Ao Zhou', 'comments': ' This paper has been accepted by RTAS 2021(brief industry track), with link to publicly available code\\n', 'primary-subject': 'Machine Learning (cs.LG)'}\n",
      "{'title': ' On-device Federated Learning with Flower\\n', 'authors': 'Akhil Mathur', 'comments': ' Accepted at the 2nd On-device Intelligence Workshop @ MLSys 2021. arXiv admin note: substantial text overlap with ', 'primary-subject': 'Machine Learning (cs.LG)'}\n",
      "{'title': ' Representative & Fair Synthetic Data\\n', 'authors': 'Paul Tiwald', 'comments': None, 'primary-subject': 'Machine Learning (cs.LG)'}\n",
      "{'title': ' Universal Adversarial Training with Class-Wise Perturbations\\n', 'authors': 'Philipp Benz', 'comments': ' Accepted to ICME 2021\\n', 'primary-subject': 'Machine Learning (cs.LG)'}\n",
      "{'title': ' Theoretically Improving Graph Neural Networks via Anonymous Walk Graph  Kernels\\n', 'authors': 'Qingqing Long', 'comments': ' 11 pages\\n', 'primary-subject': 'Machine Learning (cs.LG)'}\n",
      "{'title': ' Reinforcement Learning with a Disentangled Universal Value Function for  Item Recommendation\\n', 'authors': 'Kai Wang', 'comments': ' 9 pages, 4 figures, to be published in Proceedings of the AAAI Conference on Artificial Intelligence 2021\\n', 'primary-subject': 'Machine Learning (cs.LG)'}\n",
      "{'title': ' DyGCN: Dynamic Graph Embedding with Graph Convolutional Network\\n', 'authors': 'Zeyu Cui', 'comments': ' 21 pages, 5 figures, submitted to TOIS\\n', 'primary-subject': 'Machine Learning (cs.LG)'}\n",
      "{'title': ' The Emergence of Abstract and Episodic Neurons in Episodic Meta-RL\\n', 'authors': 'Badr AlKhamissi', 'comments': ' This work was accepted at the Learning to Learn Workshop (ICLR 2021)\\n', 'primary-subject': 'Machine Learning (cs.LG)'}\n",
      "{'title': ' Level-Set Curvature Neural Networks: A Hybrid Approach\\n', 'authors': 'Luis Ángel Larios-Cárdenas', 'comments': ' Submitted to Journal of Computational Physics\\n', 'primary-subject': 'Machine Learning (cs.LG)'}\n",
      "{'title': ' Distantly Supervised Transformers For E-Commerce Product QA\\n', 'authors': 'Happy Mittal', 'comments': ' NAACL 2021 (10 pages)\\n', 'primary-subject': 'Machine Learning (cs.LG)'}\n",
      "{'title': ' Deep Interpretable Models of Theory of Mind For Human-Agent Teaming\\n', 'authors': 'Ini Oguntola', 'comments': None, 'primary-subject': 'Machine Learning (cs.LG)'}\n"
     ]
    }
   ],
   "source": [
    "class PythonSpider(scrapy.Spider):\n",
    "    name = 'pythonspider'\n",
    "\n",
    "    start_urls = ['https://arxiv.org/list/cs.LG/recent/',]\n",
    "    found_events = []\n",
    "\n",
    "    def parse(self, response):\n",
    "        for event in response.xpath('//div[contains(@class, \"meta\")]'):\n",
    "            event_details = dict()\n",
    "            event_details['title'] = event.xpath('div[contains(@class, \"list-title mathjax\")]/span/following-sibling::text()').extract_first()\n",
    "            \n",
    "            # only takes one author\n",
    "            event_details['authors'] = event.xpath('div[contains(@class, \"list-authors\")]/a/text()').extract_first()\n",
    "            \n",
    "            event_details['comments'] = event.xpath('div[contains(@class, \"list-comments mathjax\")]/span/following-sibling::text()').extract_first()\n",
    "            \n",
    "            event_details['primary-subject'] = event.xpath('div[contains(@class, \"list-subjects\")]/span[contains(@class, \"primary-subject\")]/text()').extract_first()\n",
    "            \n",
    "            self.found_events.append(event_details)\n",
    "\n",
    "if __name__ == \"__main__\":\n",
    "    process = CrawlerProcess({ 'LOG_LEVEL': 'ERROR'})\n",
    "    process.crawl(PythonSpider)\n",
    "    spider = next(iter(process.crawlers)).spider\n",
    "    process.start()\n",
    "\n",
    "    for event in spider.found_events: print(event)"
   ]
  },
  {
   "cell_type": "code",
   "execution_count": null,
   "metadata": {},
   "outputs": [],
   "source": []
  }
 ],
 "metadata": {
  "kernelspec": {
   "display_name": "Python 3",
   "language": "python",
   "name": "python3"
  },
  "language_info": {
   "codemirror_mode": {
    "name": "ipython",
    "version": 3
   },
   "file_extension": ".py",
   "mimetype": "text/x-python",
   "name": "python",
   "nbconvert_exporter": "python",
   "pygments_lexer": "ipython3",
   "version": "3.8.8"
  }
 },
 "nbformat": 4,
 "nbformat_minor": 4
}
