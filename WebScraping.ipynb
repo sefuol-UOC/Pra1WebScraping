{
 "cells": [
  {
   "cell_type": "markdown",
   "metadata": {},
   "source": [
    "<div style=\"width: 100%; clear: both;\">\n",
    "<div style=\"float: left; width: 50%;\">\n",
    "<img src=\"http://www.uoc.edu/portal/_resources/common/imatges/marca_UOC/UOC_Masterbrand.jpg\", align=\"left\">\n",
    "</div>\n",
    "<div style=\"float: right; width: 50%;\">\n",
    "<p style=\"margin: 0; padding-top: 22px; text-align:right;\">M2.851 · Tipología y ciclo de vida de los datos · PRA1</p>\n",
    "<p style=\"margin: 0; text-align:right;\">2020-2 · Máster universitario en Ciencia de datos (Data science)</p>\n",
    "<p style=\"margin: 0; text-align:right; padding-button: 100px;\">Estudios de Informática, Multimedia y Telecomunicación</p>\n",
    "</div>\n",
    "</div>\n",
    "<div style=\"width:100%;\">&nbsp;</div>\n",
    "\n",
    "\n",
    "# Práctica 1: Web scraping\n",
    "\n",
    " - **https://github.com/sfunesolaria/Pra1WebScraping**"
   ]
  },
  {
   "cell_type": "code",
   "execution_count": 1,
   "metadata": {},
   "outputs": [],
   "source": [
    "import scrapy\n",
    "from scrapy.crawler import CrawlerProcess"
   ]
  },
  {
   "cell_type": "code",
   "execution_count": 2,
   "metadata": {},
   "outputs": [
    {
     "name": "stdout",
     "output_type": "stream",
     "text": [
      "{'descriptor': ' PlasticineLab: A Soft-Body Manipulation Benchmark with Differentiable  Physics\\n', 'primary-subject': 'Machine Learning (cs.LG)'}\n",
      "{'descriptor': ' Regularizing Generative Adversarial Networks under Limited Data\\n', 'primary-subject': 'Machine Learning (cs.LG)'}\n",
      "{'descriptor': ' Learned transform compression with optimized entropy encoding\\n', 'primary-subject': 'Machine Learning (cs.LG)'}\n",
      "{'descriptor': ' Modern Hopfield Networks for Few- and Zero-Shot Reaction Prediction\\n', 'primary-subject': 'Machine Learning (cs.LG)'}\n",
      "{'descriptor': ' Evaluation of Time Series Forecasting Models for Estimation of PM2.5  Levels in Air\\n', 'primary-subject': 'Machine Learning (cs.LG)'}\n",
      "{'descriptor': ' Deep Learning and Traffic Classification: Lessons learned from a  commercial-grade dataset with hundreds of encrypted and zero-day applications\\n', 'primary-subject': 'Machine Learning (cs.LG)'}\n",
      "{'descriptor': ' Adversarial Robustness Guarantees for Gaussian Processes\\n', 'primary-subject': 'Machine Learning (cs.LG)'}\n",
      "{'descriptor': ' Improving Robustness of Deep Reinforcement Learning Agents: Environment  Attacks based on Critic Networks\\n', 'primary-subject': 'Machine Learning (cs.LG)'}\n",
      "{'descriptor': ' Partially-Connected Differentiable Architecture Search for Deepfake and  Spoofing Detection\\n', 'primary-subject': 'Machine Learning (cs.LG)'}\n",
      "{'descriptor': ' Scaling Scaling Laws with Board Games\\n', 'primary-subject': 'Machine Learning (cs.LG)'}\n",
      "{'descriptor': ' Risk-Conditioned Distributional Soft Actor-Critic for Risk-Sensitive  Navigation\\n', 'primary-subject': 'Machine Learning (cs.LG)'}\n",
      "{'descriptor': ' Spectral Analysis of the Neural Tangent Kernel for Deep Residual  Networks\\n', 'primary-subject': 'Machine Learning (cs.LG)'}\n",
      "{'descriptor': ' Trajectory Prediction with Latent Belief Energy-Based Model\\n', 'primary-subject': 'Machine Learning (cs.LG)'}\n",
      "{'descriptor': ' Distributional Robustness Loss for Long-tail Learning\\n', 'primary-subject': 'Machine Learning (cs.LG)'}\n",
      "{'descriptor': ' Optimizing Memory Efficiency of Graph NeuralNetworks on Edge Computing  Platforms\\n', 'primary-subject': 'Machine Learning (cs.LG)'}\n",
      "{'descriptor': ' On-device Federated Learning with Flower\\n', 'primary-subject': 'Machine Learning (cs.LG)'}\n",
      "{'descriptor': ' Representative & Fair Synthetic Data\\n', 'primary-subject': 'Machine Learning (cs.LG)'}\n",
      "{'descriptor': ' Universal Adversarial Training with Class-Wise Perturbations\\n', 'primary-subject': 'Machine Learning (cs.LG)'}\n",
      "{'descriptor': ' Theoretically Improving Graph Neural Networks via Anonymous Walk Graph  Kernels\\n', 'primary-subject': 'Machine Learning (cs.LG)'}\n",
      "{'descriptor': ' Reinforcement Learning with a Disentangled Universal Value Function for  Item Recommendation\\n', 'primary-subject': 'Machine Learning (cs.LG)'}\n",
      "{'descriptor': ' DyGCN: Dynamic Graph Embedding with Graph Convolutional Network\\n', 'primary-subject': 'Machine Learning (cs.LG)'}\n",
      "{'descriptor': ' The Emergence of Abstract and Episodic Neurons in Episodic Meta-RL\\n', 'primary-subject': 'Machine Learning (cs.LG)'}\n",
      "{'descriptor': ' Level-Set Curvature Neural Networks: A Hybrid Approach\\n', 'primary-subject': 'Machine Learning (cs.LG)'}\n",
      "{'descriptor': ' Distantly Supervised Transformers For E-Commerce Product QA\\n', 'primary-subject': 'Machine Learning (cs.LG)'}\n",
      "{'descriptor': ' Deep Interpretable Models of Theory of Mind For Human-Agent Teaming\\n', 'primary-subject': 'Machine Learning (cs.LG)'}\n"
     ]
    }
   ],
   "source": [
    "class PythonSpider(scrapy.Spider):\n",
    "    name = 'pythonspider'\n",
    "\n",
    "    start_urls = ['https://arxiv.org/list/cs.LG/recent/',]\n",
    "    found_events = []\n",
    "\n",
    "    def parse(self, response):\n",
    "        for event in response.xpath('//div[contains(@class, \"meta\")]'):\n",
    "            event_details = dict()\n",
    "            event_details['descriptor'] = event.xpath('div[contains(@class, \"list-title mathjax\")]/span/following-sibling::text()').extract_first()\n",
    "            event_details['primary-subject'] = event.xpath('div[contains(@class, \"list-subjects\")]/span[contains(@class, \"primary-subject\")]/text()').extract_first()\n",
    "            \n",
    "            self.found_events.append(event_details)\n",
    "\n",
    "if __name__ == \"__main__\":\n",
    "    process = CrawlerProcess({ 'LOG_LEVEL': 'ERROR'})\n",
    "    process.crawl(PythonSpider)\n",
    "    spider = next(iter(process.crawlers)).spider\n",
    "    process.start()\n",
    "\n",
    "    for event in spider.found_events: print(event)"
   ]
  },
  {
   "cell_type": "code",
   "execution_count": null,
   "metadata": {},
   "outputs": [],
   "source": []
  }
 ],
 "metadata": {
  "kernelspec": {
   "display_name": "Python 3",
   "language": "python",
   "name": "python3"
  },
  "language_info": {
   "codemirror_mode": {
    "name": "ipython",
    "version": 3
   },
   "file_extension": ".py",
   "mimetype": "text/x-python",
   "name": "python",
   "nbconvert_exporter": "python",
   "pygments_lexer": "ipython3",
   "version": "3.8.8"
  }
 },
 "nbformat": 4,
 "nbformat_minor": 4
}
